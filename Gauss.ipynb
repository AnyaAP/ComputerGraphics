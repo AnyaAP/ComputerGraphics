{
  "nbformat": 4,
  "nbformat_minor": 0,
  "metadata": {
    "colab": {
      "provenance": [],
      "authorship_tag": "ABX9TyNFzErGJVR1Xz7IFNAPj5Ip",
      "include_colab_link": true
    },
    "kernelspec": {
      "name": "python3",
      "display_name": "Python 3"
    },
    "language_info": {
      "name": "python"
    }
  },
  "cells": [
    {
      "cell_type": "markdown",
      "metadata": {
        "id": "view-in-github",
        "colab_type": "text"
      },
      "source": [
        "<a href=\"https://colab.research.google.com/github/AnyaAP/ComputerGraphics/blob/main/Gauss.ipynb\" target=\"_parent\"><img src=\"https://colab.research.google.com/assets/colab-badge.svg\" alt=\"Open In Colab\"/></a>"
      ]
    },
    {
      "cell_type": "code",
      "execution_count": null,
      "metadata": {
        "id": "XHwmXipSE8nC"
      },
      "outputs": [],
      "source": [
        "import cv2\n",
        "\n",
        "import numpy as np\n",
        "\n",
        "# Gaussian filter\n",
        "\n",
        "def gaussian_filter(img, K_size=3, sigma=1.3):\n",
        "\n",
        "    if len(img.shape) == 3:\n",
        "\n",
        "        H, W, C = img.shape\n",
        "\n",
        "    else:\n",
        "\n",
        "        img = np.expand_dims(img, axis=-1)\n",
        "\n",
        "        H, W, C = img.shape\n",
        "\n",
        "    ## Zero padding\n",
        "\n",
        "    pad = K_size // 2\n",
        "\n",
        "    out = np.zeros((H + pad * 2, W + pad * 2, C), dtype=np.float)\n",
        "\n",
        "    out[pad: pad + H, pad: pad + W] = img.copy().astype(np.float)\n",
        "\n",
        "    ## prepare Kernel\n",
        "\n",
        "    K = np.zeros((K_size, K_size), dtype=np.float)\n",
        "\n",
        "    for x in range(-pad, -pad + K_size):\n",
        "\n",
        "        for y in range(-pad, -pad + K_size):\n",
        "\n",
        "            K[y + pad, x + pad] = np.exp( -(x ** 2 + y ** 2) / (2 * (sigma ** 2)))\n",
        "\n",
        "    K /= (2 * np.pi * sigma * sigma)\n",
        "\n",
        "    K /= K.sum()\n",
        "\n",
        "    tmp = out.copy()\n",
        "\n",
        "    # filtering\n",
        "\n",
        "    for y in range(H):\n",
        "\n",
        "        for x in range(W):\n",
        "\n",
        "            for c in range(C):\n",
        "\n",
        "                out[pad + y, pad + x, c] = np.sum(K * tmp[y: y + K_size, x: x + K_size, c])\n",
        "\n",
        "    out = np.clip(out, 0, 255)\n",
        "\n",
        "    out = out[pad: pad + H, pad: pad + W].astype(np.uint8)\n",
        "\n",
        "    return out\n",
        "\n",
        "# Read image\n",
        "\n",
        "img = cv2.imread(\"../paojie.jpg\")\n",
        "\n",
        "# Gaussian Filter\n",
        "\n",
        "out = gaussian_filter(img, K_size=3, sigma=1.3)\n",
        "\n",
        "# Save result\n",
        "\n",
        "cv2.imwrite(\"out.jpg\", out)\n",
        "\n",
        "cv2.imshow(\"result\", out)\n",
        "\n",
        "cv2.waitKey(0)\n",
        "\n",
        "cv2.destroyAllWindows()"
      ]
    }
  ]
}