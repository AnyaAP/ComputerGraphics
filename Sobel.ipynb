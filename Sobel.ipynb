{
  "nbformat": 4,
  "nbformat_minor": 0,
  "metadata": {
    "colab": {
      "provenance": [],
      "authorship_tag": "ABX9TyMaQqbzLOaNfdjIfZr9gbqk",
      "include_colab_link": true
    },
    "kernelspec": {
      "name": "python3",
      "display_name": "Python 3"
    },
    "language_info": {
      "name": "python"
    }
  },
  "cells": [
    {
      "cell_type": "markdown",
      "metadata": {
        "id": "view-in-github",
        "colab_type": "text"
      },
      "source": [
        "<a href=\"https://colab.research.google.com/github/AnyaAP/ComputerGraphics/blob/main/Sobel.ipynb\" target=\"_parent\"><img src=\"https://colab.research.google.com/assets/colab-badge.svg\" alt=\"Open In Colab\"/></a>"
      ]
    },
    {
      "cell_type": "code",
      "execution_count": 5,
      "metadata": {
        "id": "q7FA04nvCXpW"
      },
      "outputs": [],
      "source": [
        "import numpy as np\n",
        "def sobel(img, threshold):\n",
        "    '''\n",
        "    edge detection based on sobel\n",
        "\n",
        "    Parameters\n",
        "    ----------\n",
        "    img : TYPE\n",
        "        the image input.\n",
        "    threshold : TYPE\n",
        "         varies for application [0 255].\n",
        "\n",
        "    Returns\n",
        "    -------\n",
        "    mag : TYPE\n",
        "        output after edge detection.\n",
        "\n",
        "    '''\n",
        "    G_x = np.array([[-1, 0, 1],[-2, 0, 2],[-1, 0, 1]])\n",
        "    G_y = np.array([[-1, -2, -1],[0, 0, 0],[1, 2, 1]])\n",
        "    rows = np.size(img, 0)\n",
        "    columns = np.size(img, 1)\n",
        "    mag = np.zeros(img.shape)\n",
        "    for i in range(0, rows - 2):\n",
        "        for j in range(0, columns - 2):\n",
        "            v = sum(sum(G_x * img[i:i+3, j:j+3]))  # vertical\n",
        "            h = sum(sum(G_y * img[i:i+3, j:j+3]))  # horizon\n",
        "            mag[i+1, j+1] = np.sqrt((v ** 2) + (h ** 2))\n",
        "\n",
        "    for p in range(0, rows):\n",
        "        for q in range(0, columns):\n",
        "            if mag[p, q] < threshold:\n",
        "                mag[p, q] = 0\n",
        "    return mag"
      ]
    }
  ]
}