{
  "nbformat": 4,
  "nbformat_minor": 0,
  "metadata": {
    "colab": {
      "provenance": [],
      "authorship_tag": "ABX9TyOTdM7HxB6ApzXyp9u7xxj9",
      "include_colab_link": true
    },
    "kernelspec": {
      "name": "python3",
      "display_name": "Python 3"
    },
    "language_info": {
      "name": "python"
    }
  },
  "cells": [
    {
      "cell_type": "markdown",
      "metadata": {
        "id": "view-in-github",
        "colab_type": "text"
      },
      "source": [
        "<a href=\"https://colab.research.google.com/github/AnyaAP/ComputerGraphics/blob/main/Filling.ipynb\" target=\"_parent\"><img src=\"https://colab.research.google.com/assets/colab-badge.svg\" alt=\"Open In Colab\"/></a>"
      ]
    },
    {
      "cell_type": "code",
      "source": [
        "import numpy as np\n",
        "from PIL import Image\n",
        "from PIL import ImageDraw\n",
        "from PIL import ImageFont\n",
        "import matplotlib.pyplot as plt\n",
        "\n",
        "array = np.ndarray((660, 660, 3), np.uint8)\n",
        "array[:, :, 0] = 0\n",
        "array[:, :, 1] = 0\n",
        "array[:, :, 2] = 0\n",
        "\n",
        "def creat_Net(point, row, y_min,y_max ):\n",
        "  Net =  [([ ] * y_max ) for i in range(y_max )]\n",
        "  point_count = point.shape[0]\n",
        "  for j in range(0,  point_count):\n",
        "    x = np.zeros(10)\n",
        "    first = int(min(point[(j+1)%point_count][1] , point[j][1]))\n",
        "    x[1] =  (point[(j+1)%point_count][0]-point[j][0])/(point[(j+1)%point_count][1]-point[j][1]) # приращение х\n",
        "    x[2] = max(point[(j+1)%point_count][1] , point[j][1])\n",
        "    if(point[(j+1)%point_count][1] < point[j][1]):\n",
        "      x[0] = point[(j+1)%point_count][0]\n",
        "    else:\n",
        "      x[0] = point[j][0]\n",
        "    Net[first].append(x)\n",
        "  return Net\n",
        "\n",
        "def draw_line(i,x ,y ):\n",
        "  for j in range(int(x),int(y)+1):\n",
        "    array[i,j]=(255,255,255)\n",
        "\n",
        "\n",
        "def polygon_fill(point):\n",
        "  y_min = np.min(point[:,1])\n",
        "  y_max = np.max(point[:,1])\n",
        "  Net = creat_Net(point, y_max - y_min + 1, y_min, y_max)\n",
        "  x_sort = [] * 3\n",
        "  for i in range(y_min, y_max):\n",
        "    x = Net[i]\n",
        "    if(len(x) != 0):\n",
        "      for k in x :\n",
        "        x_sort.append(k)\n",
        "    x_image = [] * 3\n",
        "    for cell in x_sort:\n",
        "      x_image.append(cell[0])\n",
        "    x_image.sort()\n",
        "    if(len(x_image) >= 3 and x_image[0]==x_image[1] and x_image[2]>x_image[1]):\n",
        "      x_image[1] = x_image[2]\n",
        "    draw_line(i, x_image[0], x_image[1])\n",
        "\n",
        "    linshi = [] * 3\n",
        "    for cell in x_sort:\n",
        "      if cell[2] > i:\n",
        "        cell[0] += cell[1]\n",
        "        linshi.append(cell)\n",
        "    x_sort = linshi[:]\n",
        "\n",
        "  x_image = [] * 3\n",
        "  for cell in x_sort:\n",
        "    x_image.append(cell[0])\n",
        "  x_image.sort()\n",
        "\n",
        "  draw_line(i, x_image[0],x_image[1])\n",
        "\n",
        "\n",
        "point =  [[50,50], [200,100], [300,150],[300,300], [200,200], [100,300]]\n",
        "point = np.array(point)\n",
        "polygon_fill( point )\n",
        "image = Image.fromarray(array)\n",
        "plt.imshow(image)\n"
      ],
      "metadata": {
        "colab": {
          "base_uri": "https://localhost:8080/",
          "height": 452
        },
        "id": "BjUSHAW-_tCs",
        "outputId": "47ee0d8f-755b-4d55-9154-0520e41c7877"
      },
      "execution_count": 41,
      "outputs": [
        {
          "output_type": "execute_result",
          "data": {
            "text/plain": [
              "<matplotlib.image.AxesImage at 0x7c9309f481f0>"
            ]
          },
          "metadata": {},
          "execution_count": 41
        },
        {
          "output_type": "display_data",
          "data": {
            "text/plain": [
              "<Figure size 640x480 with 1 Axes>"
            ],
            "image/png": "[encoded data removed]"
          },
          "metadata": {}
        }
      ]
    }
  ]
}