{
  "nbformat": 4,
  "nbformat_minor": 0,
  "metadata": {
    "colab": {
      "provenance": [],
      "authorship_tag": "ABX9TyOB/Zlm/xg4lWH1LTvho2Km",
      "include_colab_link": true
    },
    "kernelspec": {
      "name": "python3",
      "display_name": "Python 3"
    },
    "language_info": {
      "name": "python"
    }
  },
  "cells": [
    {
      "cell_type": "markdown",
      "metadata": {
        "id": "view-in-github",
        "colab_type": "text"
      },
      "source": [
        "<a href=\"https://colab.research.google.com/github/AnyaAP/ComputerGraphics/blob/main/Bresenham_Line.ipynb\" target=\"_parent\"><img src=\"https://colab.research.google.com/assets/colab-badge.svg\" alt=\"Open In Colab\"/></a>"
      ]
    },
    {
      "cell_type": "code",
      "execution_count": null,
      "metadata": {
        "colab": {
          "base_uri": "https://localhost:8080/",
          "height": 502
        },
        "id": "3wMKv5eqsQhi",
        "outputId": "f403a44e-4578-4021-8d01-c239da541233"
      },
      "outputs": [
        {
          "name": "stdout",
          "output_type": "stream",
          "text": [
            "x0: 30\n",
            "y0: 30\n",
            "x1: 10\n",
            "y1: 90\n"
          ]
        },
        {
          "output_type": "display_data",
          "data": {
            "text/plain": [
              "<Figure size 640x480 with 1 Axes>"
            ],
            "image/png": "[encoded data removed]"
          },
          "metadata": {}
        }
      ],
      "source": [
        "from PIL import Image\n",
        "import matplotlib.pyplot as plt\n",
        "image = Image.new('RGB',(100, 100))\n",
        "def Bresenham(x0,y0,x1,y1):\n",
        "  e=0\n",
        "  is_steep = abs(y1-y0) > abs(x1-x0)\n",
        "  if is_steep:\n",
        "    temp = x0\n",
        "    x0 = y0\n",
        "    y0 = temp\n",
        "    temp1 = x1\n",
        "    x1 = y1\n",
        "    y1 = temp1\n",
        "  if x0 > x1:\n",
        "   temp2 = x0\n",
        "   x0 = x1\n",
        "   x1 = temp2\n",
        "   temp3 = y0\n",
        "   y0 = y1\n",
        "   y1 = temp3\n",
        "  cur_y=y0\n",
        "  for i in range(x0,x1+1):\n",
        "    if is_steep:\n",
        "      image.putpixel((cur_y,i),(255,255,255))\n",
        "    else:\n",
        "      image.putpixel((i,cur_y),(255,255,255))\n",
        "    e=e+2*abs(y1-y0)\n",
        "    if e > abs(x1-x0):\n",
        "     e=e-2*abs(x1-x0)\n",
        "     if y1>y0:\n",
        "        cur_y+=1\n",
        "     elif y1<y0:\n",
        "       cur_y-=1\n",
        "     else:\n",
        "       cur_y = y0\n",
        "\n",
        "if __name__ == '__main__':\n",
        "    x0 = int(input(\"x0: \"))\n",
        "    y0 = int(input(\"y0: \"))\n",
        "    x1 = int(input(\"x1: \"))\n",
        "    y1 = int(input(\"y1: \"))\n",
        "\n",
        "    Bresenham(x0, y0, x1, y1)\n",
        "    plt.imshow(image)"
      ]
    }
  ]
}