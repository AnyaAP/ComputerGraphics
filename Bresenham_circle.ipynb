{
  "nbformat": 4,
  "nbformat_minor": 0,
  "metadata": {
    "colab": {
      "provenance": [],
      "authorship_tag": "ABX9TyMTuc4RWnZRUQgO6B5IDOrI",
      "include_colab_link": true
    },
    "kernelspec": {
      "name": "python3",
      "display_name": "Python 3"
    },
    "language_info": {
      "name": "python"
    }
  },
  "cells": [
    {
      "cell_type": "markdown",
      "metadata": {
        "id": "view-in-github",
        "colab_type": "text"
      },
      "source": [
        "<a href=\"https://colab.research.google.com/github/AnyaAP/ComputerGraphics/blob/main/Bresenham_circle.ipynb\" target=\"_parent\"><img src=\"https://colab.research.google.com/assets/colab-badge.svg\" alt=\"Open In Colab\"/></a>"
      ]
    },
    {
      "cell_type": "code",
      "execution_count": null,
      "metadata": {
        "colab": {
          "base_uri": "https://localhost:8080/",
          "height": 485
        },
        "id": "HYxHgjy40Xd-",
        "outputId": "ba823ba1-e3f1-41db-85d2-33b8117737ca"
      },
      "outputs": [
        {
          "name": "stdout",
          "output_type": "stream",
          "text": [
            "x0: 50\n",
            "y0: 50\n",
            "r: 30\n"
          ]
        },
        {
          "output_type": "display_data",
          "data": {
            "text/plain": [
              "<Figure size 640x480 with 1 Axes>"
            ],
            "image/png": "[encoded data removed]"
          },
          "metadata": {}
        }
      ],
      "source": [
        "from PIL import Image\n",
        "import matplotlib.pyplot as plt\n",
        "image = Image.new('RGB',(100, 100))\n",
        "def draw(x0,y0,x,y):\n",
        "  image.putpixel((x0+x, y0+y),(255,255,255))\n",
        "  image.putpixel((x0-x, y0+y),(255,255,255))\n",
        "  image.putpixel((x0+x, y0-y),(255,255,255))\n",
        "  image.putpixel((x0-x, y0-y),(255,255,255))\n",
        "  image.putpixel((x0+y, y0+x),(255,255,255))\n",
        "  image.putpixel((x0-y, y0+x),(255,255,255))\n",
        "  image.putpixel((x0+y, y0-x),(255,255,255))\n",
        "  image.putpixel((x0-y, y0-x),(255,255,255))\n",
        "def Bresenham_circle(x0, y0, r):\n",
        "  x = r\n",
        "  y = 0\n",
        "  f0 = (3-2*r)\n",
        "  draw(x0,y0,x,y)\n",
        "  while y < x:\n",
        "      y+=1\n",
        "      if f0 < 0:\n",
        "        f0 = f0 + (4*y+6)\n",
        "      else:\n",
        "        x-=1\n",
        "        f0 = f0 + (10 - 4*x + 4*y)\n",
        "      draw(x0,y0,x,y)\n",
        "if __name__ == '__main__':\n",
        "    x0 = int(input(\"x0: \"))\n",
        "    y0 = int(input(\"y0: \"))\n",
        "    r = int(input(\"r: \"))\n",
        "\n",
        "    Bresenham_circle(x0, y0, r)\n",
        "    plt.imshow(image)"
      ]
    }
  ]
}