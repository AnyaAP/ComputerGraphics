{
  "nbformat": 4,
  "nbformat_minor": 0,
  "metadata": {
    "colab": {
      "provenance": [],
      "authorship_tag": "ABX9TyOw+3C4uwGzx6TLpqp8Glob",
      "include_colab_link": true
    },
    "kernelspec": {
      "name": "python3",
      "display_name": "Python 3"
    },
    "language_info": {
      "name": "python"
    }
  },
  "cells": [
    {
      "cell_type": "markdown",
      "metadata": {
        "id": "view-in-github",
        "colab_type": "text"
      },
      "source": [
        "<a href=\"https://colab.research.google.com/github/AnyaAP/ComputerGraphics/blob/main/z_buffer.ipynb\" target=\"_parent\"><img src=\"https://colab.research.google.com/assets/colab-badge.svg\" alt=\"Open In Colab\"/></a>"
      ]
    },
    {
      "cell_type": "code",
      "execution_count": 1,
      "metadata": {
        "colab": {
          "base_uri": "https://localhost:8080/"
        },
        "id": "1ixv1tLAFVle",
        "outputId": "51cc6377-3716-4851-e3b8-1b1ee081aeac"
      },
      "outputs": [
        {
          "output_type": "stream",
          "name": "stdout",
          "text": [
            "pygame 2.5.2 (SDL 2.28.2, Python 3.10.12)\n",
            "Hello from the pygame community. https://www.pygame.org/contribute.html\n"
          ]
        }
      ],
      "source": [
        "import pygame\n",
        "from pygame.locals import *\n",
        "\n",
        "# Инициализация Pygame\n",
        "pygame.init()\n",
        "\n",
        "# Размеры экрана\n",
        "width, height = 800, 600\n",
        "screen = pygame.display.set_mode((width, height))\n",
        "pygame.display.set_caption('Z-Buffer')\n",
        "\n",
        "# Значение бесконечно удаленного Z (очень большое значение)\n",
        "far_z = 1000\n",
        "\n",
        "# Создание Z-буфера и заполнение его бесконечными значениями\n",
        "z_buffer = [[far_z for _ in range(width)] for __ in range(height)]\n",
        "\n",
        "# Функция для рисования треугольника с использованием Z-буфера\n",
        "def draw_triangle(vertices):\n",
        "    # Извлечение координат вершин треугольника\n",
        "    v0, v1, v2 = vertices\n",
        "\n",
        "    # Определение границ для сканирования по Y\n",
        "    y_min = min(v0[1], v1[1], v2[1])\n",
        "    y_max = max(v0[1], v1[1], v2[1])\n",
        "\n",
        "    for y in range(y_min, y_max + 1):\n",
        "        # Нахождение X-координат на линиях между вершинами\n",
        "        x0, x1, x2 = interpolate(v0, v1, v2, y)\n",
        "\n",
        "        # Определение минимального и максимального X для сканирования по X\n",
        "        x_min = min(x0, x1, x2)\n",
        "        x_max = max(x0, x1, x2)\n",
        "\n",
        "        for x in range(x_min, x_max + 1):\n",
        "            if is_inside_triangle(x, y, v0, v1, v2):\n",
        "                # Расчет глубины пикселя в текущих координатах (Z-координата)\n",
        "                z = calculate_depth(v0, v1, v2, x, y)\n",
        "\n",
        "                # Проверка, виден ли пиксель\n",
        "                if z < z_buffer[y][x]:\n",
        "                    z_buffer[y][x] = z\n",
        "                    screen.set_at((x, y), (255, 255, 255))  # Отрисовка пикселя\n",
        "\n",
        "# Функция для линейной интерполяции X-координат\n",
        "def interpolate(v0, v1, v2, y):\n",
        "    x0 = v0[0] + (v2[0] - v0[0]) * (y - v0[1]) / (v2[1] - v0[1])\n",
        "    x1 = v0[0] + (v1[0] - v0[0]) * (y - v0[1]) / (v1[1] - v0[1])\n",
        "    x2 = v1[0] + (v2[0] - v1[0]) * (y - v1[1]) / (v2[1] - v1[1])\n",
        "    return int(x0), int(x1), int(x2)\n",
        "\n",
        "# Функция для проверки, находится ли точка внутри треугольника\n",
        "def is_inside_triangle(x, y, v0, v1, v2):\n",
        "    # Вычисление барицентрических координат\n",
        "    b0 = ((v1[1] - v2[1]) * (x - v2[0]) + (v2[0] - v1[0]) * (y - v2[1])) / \\\n",
        "         ((v1[1] - v2[1]) * (v0[0] - v2[0]) + (v2[0] - v1[0]) * (v0[1] - v2[1]))\n",
        "    b1 = ((v2[1] - v0[1]) * (x - v2[0]) + (v0[0] - v2[0]) * (y - v2[1])) / \\\n",
        "         ((v1[1] - v2[1]) * (v0[0] - v2[0]) + (v2[0] - v1[0]) * (v0[1] - v2[1]))\n",
        "    b2 = 1 - b0 - b1\n",
        "\n",
        "    # Проверка, находится ли точка внутри треугольника\n",
        "    return 0 <= b0 <= 1 and 0 <= b1 <= 1 and 0 <= b2 <= 1\n",
        "\n",
        "# Функция для вычисления глубины (Z-координаты) пикселя\n",
        "def calculate_depth(v0, v1, v2, x, y):\n",
        "    # Вычисление барицентрических координат для треугольника\n",
        "    b0 = ((v1[1] - v2[1]) * (x - v2[0]) + (v2[0] - v1[0]) * (y - v2[1])) / \\\n",
        "         ((v1[1] - v2[1]) * (v0[0] - v2[0]) + (v2[0] - v1[0]) * (v0[1] - v2[1]))\n",
        "    b1 = ((v2[1] - v0[1]) * (x - v2[0]) + (v0[0] - v2[0]) * (y - v2[1])) / \\\n",
        "         ((v1[1] - v2[1]) * (v0[0] - v2[0]) + (v2[0] - v1[0]) * (v0[1] - v2[1]))\n",
        "    b2 = 1 - b0 - b1\n",
        "\n",
        "    # Вычисление глубины (Z-координаты)\n",
        "    depth = b0 * v0[2] + b1 * v1[2] + b2 * v2[2]\n",
        "    return depth\n",
        "\n",
        "# Пример трех вершин треугольника (x, y, z)\n",
        "vertices = [\n",
        "    (200, 100, 20),\n",
        "    (400, 500, 40),\n",
        "    (600, 200, 30)\n",
        "]\n",
        "\n",
        "# Рисование треугольника\n",
        "draw_triangle(vertices)"
      ]
    }
  ]
}