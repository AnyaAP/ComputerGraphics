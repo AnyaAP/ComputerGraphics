{
  "nbformat": 4,
  "nbformat_minor": 0,
  "metadata": {
    "colab": {
      "provenance": [],
      "authorship_tag": "ABX9TyMvjPJI2HbzJzuuk1bFp8eS",
      "include_colab_link": true
    },
    "kernelspec": {
      "name": "python3",
      "display_name": "Python 3"
    },
    "language_info": {
      "name": "python"
    }
  },
  "cells": [
    {
      "cell_type": "markdown",
      "metadata": {
        "id": "view-in-github",
        "colab_type": "text"
      },
      "source": [
        "<a href=\"https://colab.research.google.com/github/AnyaAP/ComputerGraphics/blob/main/z_buffer.ipynb\" target=\"_parent\"><img src=\"https://colab.research.google.com/assets/colab-badge.svg\" alt=\"Open In Colab\"/></a>"
      ]
    },
    {
      "cell_type": "code",
      "execution_count": 5,
      "metadata": {
        "colab": {
          "base_uri": "https://localhost:8080/",
          "height": 452
        },
        "id": "1ixv1tLAFVle",
        "outputId": "a0a8f4d5-f1dc-41f3-9a0e-62446b0d152f"
      },
      "outputs": [
        {
          "output_type": "execute_result",
          "data": {
            "text/plain": [
              "<matplotlib.image.AxesImage at 0x78f9bb4ec9d0>"
            ]
          },
          "metadata": {},
          "execution_count": 5
        },
        {
          "output_type": "display_data",
          "data": {
            "text/plain": [
              "<Figure size 640x480 with 1 Axes>"
            ],
            "image/png": "[encoded data removed]"
          },
          "metadata": {}
        }
      ],
      "source": [
        "from PIL import Image\n",
        "import matplotlib.pyplot as plt\n",
        "import pygame\n",
        "from pygame.locals import *\n",
        "pygame.init()\n",
        "image = Image.new('RGB',(1000, 1000))\n",
        "\n",
        "width, height = 800, 600\n",
        "screen = pygame.display.set_mode((width, height))\n",
        "pygame.display.set_caption('Z-Buffer')\n",
        "\n",
        "far_z = 1000\n",
        "\n",
        "z_buffer = [[far_z for _ in range(width)] for __ in range(height)]\n",
        "\n",
        "\n",
        "def draw_triangle(vertices):\n",
        "    v0, v1, v2 = vertices\n",
        "    y_min = min(v0[1], v1[1], v2[1])\n",
        "    y_max = max(v0[1], v1[1], v2[1])\n",
        "\n",
        "    for y in range(y_min, y_max + 1):\n",
        "        x0, x1, x2 = interpolate(v0, v1, v2, y)\n",
        "        x_min = min(x0, x1, x2)\n",
        "        x_max = max(x0, x1, x2)\n",
        "\n",
        "        for x in range(x_min, x_max + 1):\n",
        "            if is_inside_triangle(x, y, v0, v1, v2):\n",
        "                z = calculate_depth(v0, v1, v2, x, y)\n",
        "                if z < z_buffer[y][x]:\n",
        "                    z_buffer[y][x] = z\n",
        "                    image.putpixel((x, y), (255, 255, 255))\n",
        "def interpolate(v0, v1, v2, y):\n",
        "    x0 = v0[0] + (v2[0] - v0[0]) * (y - v0[1]) / (v2[1] - v0[1])\n",
        "    x1 = v0[0] + (v1[0] - v0[0]) * (y - v0[1]) / (v1[1] - v0[1])\n",
        "    x2 = v1[0] + (v2[0] - v1[0]) * (y - v1[1]) / (v2[1] - v1[1])\n",
        "    return int(x0), int(x1), int(x2)\n",
        "\n",
        "\n",
        "def is_inside_triangle(x, y, v0, v1, v2):\n",
        "    b0 = ((v1[1] - v2[1]) * (x - v2[0]) + (v2[0] - v1[0]) * (y - v2[1])) / \\\n",
        "         ((v1[1] - v2[1]) * (v0[0] - v2[0]) + (v2[0] - v1[0]) * (v0[1] - v2[1]))\n",
        "    b1 = ((v2[1] - v0[1]) * (x - v2[0]) + (v0[0] - v2[0]) * (y - v2[1])) / \\\n",
        "         ((v1[1] - v2[1]) * (v0[0] - v2[0]) + (v2[0] - v1[0]) * (v0[1] - v2[1]))\n",
        "    b2 = 1 - b0 - b1\n",
        "    return 0 <= b0 <= 1 and 0 <= b1 <= 1 and 0 <= b2 <= 1\n",
        "\n",
        "def calculate_depth(v0, v1, v2, x, y):\n",
        "\n",
        "    b0 = ((v1[1] - v2[1]) * (x - v2[0]) + (v2[0] - v1[0]) * (y - v2[1])) / \\\n",
        "         ((v1[1] - v2[1]) * (v0[0] - v2[0]) + (v2[0] - v1[0]) * (v0[1] - v2[1]))\n",
        "    b1 = ((v2[1] - v0[1]) * (x - v2[0]) + (v0[0] - v2[0]) * (y - v2[1])) / \\\n",
        "         ((v1[1] - v2[1]) * (v0[0] - v2[0]) + (v2[0] - v1[0]) * (v0[1] - v2[1]))\n",
        "    b2 = 1 - b0 - b1\n",
        "    depth = b0 * v0[2] + b1 * v1[2] + b2 * v2[2]\n",
        "    return depth\n",
        "\n",
        "vertices = [(200, 100, 20),(400, 500, 40),(600, 200, 30)]\n",
        "\n",
        "draw_triangle(vertices)\n",
        "plt.imshow(image)"
      ]
    }
  ]
}