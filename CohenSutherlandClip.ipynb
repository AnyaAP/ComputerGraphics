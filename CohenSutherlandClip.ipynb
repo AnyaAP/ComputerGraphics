{
  "nbformat": 4,
  "nbformat_minor": 0,
  "metadata": {
    "colab": {
      "provenance": [],
      "authorship_tag": "ABX9TyNXqxpvTD2solvZYSPojNrn",
      "include_colab_link": true
    },
    "kernelspec": {
      "name": "python3",
      "display_name": "Python 3"
    },
    "language_info": {
      "name": "python"
    }
  },
  "cells": [
    {
      "cell_type": "markdown",
      "metadata": {
        "id": "view-in-github",
        "colab_type": "text"
      },
      "source": [
        "<a href=\"https://colab.research.google.com/github/AnyaAP/ComputerGraphics/blob/main/CohenSutherlandClip.ipynb\" target=\"_parent\"><img src=\"https://colab.research.google.com/assets/colab-badge.svg\" alt=\"Open In Colab\"/></a>"
      ]
    },
    {
      "cell_type": "code",
      "execution_count": null,
      "metadata": {
        "colab": {
          "base_uri": "https://localhost:8080/",
          "height": 572
        },
        "id": "FibE542_6iJX",
        "outputId": "3cd8ff51-f097-47e0-ae1b-4468fdb14ed1"
      },
      "outputs": [
        {
          "name": "stdout",
          "output_type": "stream",
          "text": [
            "x1: 5\n",
            "y1: 5\n",
            "x2: 65\n",
            "y2: 90\n",
            "x_min: 10\n",
            "y_min: 10\n",
            "x_max: 60\n",
            "y_max: 70\n"
          ]
        },
        {
          "output_type": "display_data",
          "data": {
            "text/plain": [
              "<Figure size 640x480 with 1 Axes>"
            ],
            "image/png": "[encoded data removed]"
          },
          "metadata": {}
        }
      ],
      "source": [
        "from PIL import Image\n",
        "import matplotlib.pyplot as plt\n",
        "image = Image.new('RGB',(100, 100))\n",
        "\n",
        "def Bresenham(x0,y0,x1,y1):\n",
        "  e=0\n",
        "  is_steep = abs(y1-y0) > abs(x1-x0)\n",
        "  if is_steep:\n",
        "    temp = x0\n",
        "    x0 = y0\n",
        "    y0 = temp\n",
        "    temp1 = x1\n",
        "    x1 = y1\n",
        "    y1 = temp1\n",
        "  if x0 > x1:\n",
        "   temp2 = x0\n",
        "   x0 = x1\n",
        "   x1 = temp2\n",
        "   temp3 = y0\n",
        "   y0 = y1\n",
        "   y1 = temp3\n",
        "  cur_y=y0\n",
        "  for i in range(x0,x1+1):\n",
        "    if is_steep:\n",
        "      image.putpixel((cur_y,i),(255,255,255))\n",
        "    else:\n",
        "     image.putpixel((i,cur_y),(255,255,255))\n",
        "    e=e+2*abs(y1-y0)\n",
        "    if e > abs(x1-x0):\n",
        "     e=e-2*abs(x1-x0)\n",
        "     if y1>y0:\n",
        "        cur_y+=1\n",
        "     elif y1<y0:\n",
        "       cur_y-=1\n",
        "     else:\n",
        "       cur_y = y0\n",
        "\n",
        "INSIDE = 0\n",
        "LEFT = 1\n",
        "RIGHT = 2\n",
        "BOTTOM = 4\n",
        "TOP = 8\n",
        "\n",
        "def computeCode(x, y, x_min, y_min, x_max, y_max):\n",
        "    code = INSIDE\n",
        "    if x < x_min:\n",
        "        code |= LEFT\n",
        "    elif x > x_max:\n",
        "        code |= RIGHT\n",
        "    if y < y_min:\n",
        "        code |= BOTTOM\n",
        "    elif y > y_max:\n",
        "        code |= TOP\n",
        "    return code\n",
        "\n",
        "def cohenSutherlandClip(x1, y1, x2, y2, x_min, y_min, x_max, y_max):\n",
        "\n",
        "    code1 = computeCode(x1, y1, x_min, y_min, x_max, y_max)\n",
        "    code2 = computeCode(x2, y2, x_min, y_min, x_max, y_max)\n",
        "    accept = False\n",
        "\n",
        "    while True:\n",
        "\n",
        "        if code1 == 0 and code2 == 0:\n",
        "            accept = True\n",
        "            break\n",
        "\n",
        "        elif (code1 & code2) != 0:\n",
        "            break\n",
        "\n",
        "        else:\n",
        "\n",
        "            x = 1.0\n",
        "            y = 1.0\n",
        "            if code1 != 0:\n",
        "                code_out = code1\n",
        "            else:\n",
        "                code_out = code2\n",
        "\n",
        "            if code_out & TOP:\n",
        "                x = x1 + (x2 - x1) * (y_max - y1) / (y2 - y1)\n",
        "                y = y_max\n",
        "            elif code_out & BOTTOM:\n",
        "                x = x1 + (x2 - x1) * (y_min - y1) / (y2 - y1)\n",
        "                y = y_min\n",
        "            elif code_out & RIGHT:\n",
        "                y = y1 + (y2 - y1) * (x_max - x1) / (x2 - x1)\n",
        "                x = x_max\n",
        "            elif code_out & LEFT:\n",
        "                y = y1 + (y2 - y1) * (x_min - x1) / (x2 - x1)\n",
        "                x = x_min\n",
        "\n",
        "            if code_out == code1:\n",
        "                x1 = x\n",
        "                y1 = y\n",
        "                code1 = computeCode(x1, y1, x_min, y_min, x_max, y_max)\n",
        "            else:\n",
        "                x2 = x\n",
        "                y2 = y\n",
        "                code2 = computeCode(x2, y2, x_min, y_min, x_max, y_max)\n",
        "\n",
        "    if accept:\n",
        "      Bresenham(int(x1), int(y1), int(x2), int(y2))\n",
        "if __name__ == '__main__':\n",
        "    x1 = int(input(\"x1: \"))\n",
        "    y1 = int(input(\"y1: \"))\n",
        "    x2 = int(input(\"x2: \"))\n",
        "    y2 = int(input(\"y2: \"))\n",
        "    x_min = int(input(\"x_min: \"))\n",
        "    y_min = int(input(\"y_min: \"))\n",
        "    x_max = int(input(\"x_max: \"))\n",
        "    y_max = int(input(\"y_max: \"))\n",
        "    cohenSutherlandClip(x1, y1, x2, y2, x_min, y_min, x_max, y_max)\n",
        "    plt.imshow(image)"
      ]
    }
  ]
}