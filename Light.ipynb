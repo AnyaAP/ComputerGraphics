{
  "nbformat": 4,
  "nbformat_minor": 0,
  "metadata": {
    "colab": {
      "provenance": [],
      "authorship_tag": "ABX9TyP8moeBHhKNLr3OXus1+nkJ",
      "include_colab_link": true
    },
    "kernelspec": {
      "name": "python3",
      "display_name": "Python 3"
    },
    "language_info": {
      "name": "python"
    }
  },
  "cells": [
    {
      "cell_type": "markdown",
      "metadata": {
        "id": "view-in-github",
        "colab_type": "text"
      },
      "source": [
        "<a href=\"https://colab.research.google.com/github/AnyaAP/ComputerGraphics/blob/main/Light.ipynb\" target=\"_parent\"><img src=\"https://colab.research.google.com/assets/colab-badge.svg\" alt=\"Open In Colab\"/></a>"
      ]
    },
    {
      "cell_type": "code",
      "execution_count": 7,
      "metadata": {
        "id": "Cjic9Sr5G3LG",
        "outputId": "6d145d2d-77e9-4de4-d6e1-f46e29baa910",
        "colab": {
          "base_uri": "https://localhost:8080/",
          "height": 451
        }
      },
      "outputs": [
        {
          "output_type": "execute_result",
          "data": {
            "text/plain": [
              "<matplotlib.image.AxesImage at 0x788839245360>"
            ]
          },
          "metadata": {},
          "execution_count": 7
        },
        {
          "output_type": "display_data",
          "data": {
            "text/plain": [
              "<Figure size 640x480 with 1 Axes>"
            ],
            "image/png": "[encoded data removed]"
          },
          "metadata": {}
        }
      ],
      "source": [
        "from PIL import Image\n",
        "import math\n",
        "import numpy as np\n",
        "import matplotlib.pyplot as plt\n",
        "\n",
        "class Point:\n",
        "  def __init__(self, x, y, z):\n",
        "    self.x = x\n",
        "    self.y = y\n",
        "    self.z = z\n",
        "\n",
        "class Face:\n",
        "  def __init__(self, A, B, C):\n",
        "    self.A = A\n",
        "    self.B = B\n",
        "    self.C = C\n",
        "\n",
        "class Plane:\n",
        "  def __init__(self, ABC):\n",
        "    self.A = (ABC.B.y - ABC.A.y) * (ABC.C.z- ABC.A.z) - (ABC.C.y - ABC.A.y) * (ABC.B.z - ABC.A.z)\n",
        "    self.B = -1*((ABC.B.x - ABC.A.x) * (ABC.C.z - ABC.A.z) - (ABC.C.x - ABC.A.x) * (ABC.B.z - ABC.A.z))\n",
        "    self.C = (ABC.B.x - ABC.A.x) * (ABC.C.y - ABC.A.y) - (ABC.C.x - ABC.A.x) * (ABC.B.y - ABC.A.y)\n",
        "    self.D = -1 * ABC.A.x * self.A + ABC.A.y * self.B - ABC.A.z * self.C\n",
        "\n",
        "def scProduct(V1, V2):\n",
        "  return V1[0]*V2[0] + V1[1]*V2[1]\n",
        "\n",
        "def isIn(ABC, x, y):\n",
        "  AB = (ABC.B.x - ABC.A.x, ABC.B.y - ABC.A.y)\n",
        "  BC = (ABC.C.x - ABC.B.x, ABC.C.y - ABC.B.y)\n",
        "  CA = (ABC.A.x - ABC.C.x, ABC.A.y - ABC.C.y)\n",
        "\n",
        "  Nab = (-AB[1], AB[0])\n",
        "  Nbc = (-BC[1], BC[0])\n",
        "  Nca = (-CA[1], CA[0])\n",
        "\n",
        "  Ap = (x - ABC.A.x, y - ABC.A.y)\n",
        "  Bp = (x - ABC.B.x, y - ABC.B.y)\n",
        "  Cp = (x - ABC.C.x, y - ABC.C.y)\n",
        "\n",
        "  if scProduct(Nab, Ap) <=0 and scProduct(Nbc, Bp) <= 0 and scProduct(Nca, Cp) <= 0:\n",
        "    return True\n",
        "  return False\n",
        "\n",
        "def get3DNormal(ABC):\n",
        "  return ((ABC.B.y - ABC.A.y) * (ABC.C.z - ABC.A.z) - (ABC.C.y - ABC.A.y) * (ABC.B.z - ABC.A.z),\n",
        "          -1*((ABC.B.x - ABC.A.x) * (ABC.C.z - ABC.A.z) - (ABC.C.x - ABC.A.x) * (ABC.B.z - ABC.A.z)),\n",
        "          (ABC.B.x - ABC.A.x) * (ABC.C.y - ABC.A.y) - (ABC.C.x - ABC.A.x) * (ABC.B.y - ABC.A.y))\n",
        "\n",
        "def get3DPoint(plane, x, y):\n",
        "  if not plane.C == 0:\n",
        "    z = (-1 * plane.D - x * plane.A - y * plane.B) / plane.C\n",
        "    return Point(x, y, z)\n",
        "  else: return Point(x, y, np.nan)\n",
        "\n",
        "def getVlen(V):\n",
        "  return math.sqrt(V[0]*V[0] + V[1]*V[1] + V[2]*V[2])\n",
        "\n",
        "def getI(ABC, L, x, y):\n",
        "  plane = Plane(ABC)\n",
        "  N = (plane.A, plane.B, plane.C)\n",
        "  #N = get3DNormal(ABC)\n",
        "  P = get3DPoint(plane, x, y)\n",
        "  LP = (P.x - L.x, P.y - L.y, P.z - L.z)\n",
        "  Nlen = getVlen(N)\n",
        "  LPlen = getVlen(LP)\n",
        "\n",
        "  return scProduct(N, LP)/Nlen/LPlen\n",
        "\n",
        "def drawTri(ABC, L, w, h,const, kl=1):\n",
        "  for i in range(h):\n",
        "    for j in range(w):\n",
        "      if isIn(ABC, j, i):\n",
        "        il = kl * int(round(getI(f, L, j, i) * 255))\n",
        "        img.putpixel((j, i), (il+const, il+const, il+const))\n",
        "\n",
        "\n",
        "A = Point(0,50,10)\n",
        "B = Point(50, 100, 30)\n",
        "C = Point(100, 50, 10)\n",
        "\n",
        "A1 = Point(170, 170, 0)\n",
        "\n",
        "L = Point(80, 50, 60)\n",
        "\n",
        "f = Face(A, B, C)\n",
        "f1 = Face(B, A1, C)\n",
        "img = Image.new('RGB', (200,200))\n",
        "\n",
        "drawTri(f, L, 100, 100, 50, 3)\n",
        "\n",
        "\n",
        "plt.imshow(img)\n"
      ]
    }
  ]
}